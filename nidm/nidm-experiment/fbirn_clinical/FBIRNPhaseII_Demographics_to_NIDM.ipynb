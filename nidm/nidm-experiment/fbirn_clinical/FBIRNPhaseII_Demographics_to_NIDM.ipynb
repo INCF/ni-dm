{
 "cells": [
  {
   "cell_type": "markdown",
   "metadata": {},
   "source": [
    "#Import Python libraries\n",
    "##rdflib - https://pypi.python.org/pypi/rdflib"
   ]
  },
  {
   "cell_type": "code",
   "execution_count": 1,
   "metadata": {
    "collapsed": false
   },
   "outputs": [],
   "source": [
    "import os\n",
    "import rdflib as rdf\n",
    "#import csv for reading csv files\n",
    "import csv"
   ]
  },
  {
   "cell_type": "markdown",
   "metadata": {},
   "source": [
    "#Create new RDF graph"
   ]
  },
  {
   "cell_type": "code",
   "execution_count": 2,
   "metadata": {
    "collapsed": false
   },
   "outputs": [],
   "source": [
    "g = rdf.Graph()"
   ]
  },
  {
   "cell_type": "markdown",
   "metadata": {},
   "source": [
    "#Add namespaces\n",
    "## Add a namespace for each one in the object model"
   ]
  },
  {
   "cell_type": "code",
   "execution_count": 3,
   "metadata": {
    "collapsed": false
   },
   "outputs": [
    {
     "data": {
      "text/plain": [
       "[('xml', rdflib.term.URIRef(u'http://www.w3.org/XML/1998/namespace')),\n",
       " ('rdf', rdflib.term.URIRef(u'http://www.w3.org/1999/02/22-rdf-syntax-ns#')),\n",
       " ('xsd', rdflib.term.URIRef(u'http://www.w3.org/2001/XMLSchema#')),\n",
       " ('rdfs', rdflib.term.URIRef(u'http://www.w3.org/2000/01/rdf-schema#'))]"
      ]
     },
     "execution_count": 3,
     "metadata": {},
     "output_type": "execute_result"
    }
   ],
   "source": [
    "nidm = rdf.Namespace(\"http://nidm.nidash.org/\")\n",
    "prov = rdf.Namespace(\"http://www.w3.org/ns/prov#\")\n",
    "ncit = rdf.Namespace(\"http://ncitt.ncit.nih.gov/\")\n",
    "nidash = rdf.Namespace(\"http://purl.org/nidash/nidm/\")\n",
    "fbirn = rdf.Namespace(\"http://www.birncommunity.org/collaborators/function-birn/\")\n",
    "list(g.namespaces())"
   ]
  },
  {
   "cell_type": "markdown",
   "metadata": {},
   "source": [
    "#Bind namespaces to graph"
   ]
  },
  {
   "cell_type": "code",
   "execution_count": 4,
   "metadata": {
    "collapsed": false
   },
   "outputs": [
    {
     "data": {
      "text/plain": [
       "[('xml', rdflib.term.URIRef(u'http://www.w3.org/XML/1998/namespace')),\n",
       " ('fbirn',\n",
       "  rdflib.term.URIRef(u'http://www.birncommunity.org/collaborators/function-birn/')),\n",
       " ('ncit', rdflib.term.URIRef(u'http://ncitt.ncit.nih.gov/')),\n",
       " ('rdfs', rdflib.term.URIRef(u'http://www.w3.org/2000/01/rdf-schema#')),\n",
       " ('prov', rdflib.term.URIRef(u'http://www.w3.org/ns/prov#')),\n",
       " ('nidash', rdflib.term.URIRef(u'http://purl.org/nidash/nidm/')),\n",
       " ('nidm', rdflib.term.URIRef(u'http://nidm.nidash.org/')),\n",
       " ('rdf', rdflib.term.URIRef(u'http://www.w3.org/1999/02/22-rdf-syntax-ns#')),\n",
       " ('xsd', rdflib.term.URIRef(u'http://www.w3.org/2001/XMLSchema#'))]"
      ]
     },
     "execution_count": 4,
     "metadata": {},
     "output_type": "execute_result"
    }
   ],
   "source": [
    "g.bind('nidm', nidm)\n",
    "g.bind('prov', prov)\n",
    "g.bind('ncit', ncit)\n",
    "g.bind('nidash', nidash)\n",
    "g.bind('fbirn', fbirn)\n",
    "list(g.namespaces())"
   ]
  },
  {
   "cell_type": "markdown",
   "metadata": {},
   "source": [
    "    #Create function to create element nodes"
   ]
  },
  {
   "cell_type": "code",
   "execution_count": 5,
   "metadata": {
    "collapsed": false
   },
   "outputs": [],
   "source": [
    "def nidm_add_elements(g,line,assessment_name):\n",
    "    #Create new node for each element with metadata consistent with NIDM-Experiment assessment acquistion\n",
    "    g.add((nidash[assessment_name+line[\"SCORENAME\"]], rdf.RDF.type, nidash[\"DataElement\"]))\n",
    "    g.add((nidash[assessment_name+line[\"SCORENAME\"]], rdf.RDF.type, rdf.RDF.Property))\n",
    "    g.add((nidash[assessment_name+line[\"SCORENAME\"]], rdf.RDF.type, rdf.RDF.Property))\n",
    "    g.add((nidash[assessment_name+line[\"SCORENAME\"]], prov[\"label\"], rdf.Literal(line[\"SCORENAME\"])))\n",
    "    g.add((nidash[assessment_name+line[\"SCORENAME\"]], nidash[\"DataType\"], rdf.Literal(line[\"SCORETYPE\"])))\n",
    "    g.add((nidash[assessment_name+line[\"SCORENAME\"]], nidash[\"Question\"], rdf.Literal(line[\"QUESTION\"])))\n",
    "    g.add((nidash[assessment_name+line[\"SCORENAME\"]], nidash[\"Sequence\"], rdf.Literal(line[\"SCORESEQ\"])))   \n",
    "    #make association with assessment\n",
    "    g.add((nidash[assessment_name],prov[\"hadMember\"], nidash[assessment_name+line[\"SCORENAME\"]]))"
   ]
  },
  {
   "cell_type": "code",
   "execution_count": 6,
   "metadata": {
    "collapsed": true
   },
   "outputs": [],
   "source": [
    "def nidm_create_assessment(g, assessment_name):\n",
    "    g.add((nidash[assessment_name], rdf.RDF.type, nidash[\"DataStructure\"]))\n",
    "    g.add((nidash[assessment_name],prov[\"label\"],rdf.Literal(assessment_name)))"
   ]
  },
  {
   "cell_type": "code",
   "execution_count": 7,
   "metadata": {
    "collapsed": false
   },
   "outputs": [],
   "source": [
    "def nidm_add_codedproperty(g,line,valueset_id, codedvalue_id):\n",
    "    g.add((nidash[codedvalue_id], rdf.RDF.type, nidash[\"CodedProperty\"]))\n",
    "    g.add((nidash[codedvalue_id], rdf.RDF.type, rdf.RDF.Property))\n",
    "    g.add((nidash[codedvalue_id],nidash[\"code\"], rdf.Literal(line[\"SCORECODE\"])))\n",
    "    g.add((nidash[codedvalue_id], prov[\"label\"], rdf.Literal(line[\"SCORELABEL\"])))\n",
    "    g.add((nidash[valueset_id], prov[\"hadMember\"], nidash[codedvalue_id]))\n",
    "    "
   ]
  },
  {
   "cell_type": "markdown",
   "metadata": {},
   "source": [
    "#Read in CSV file and convert to RDF graph"
   ]
  },
  {
   "cell_type": "code",
   "execution_count": 8,
   "metadata": {
    "collapsed": false
   },
   "outputs": [],
   "source": [
    "import pandas as pd\n",
    "variables = pd.read_csv(\"FBIRNPhaseII_DEMOGRAPHICS_Variables.csv\")\n",
    "value_sets = pd.read_csv(\"FBIRNPhaseII_DEMOGRAPHICS_ValueSets.csv\")\n",
    "assessment_name = \"FBIRNPhaseIIDemographics\"\n",
    "#iterate over the variables in the data dictionary\n",
    "for index, row in variables.iterrows():\n",
    "    #add elements to RDF graph for variable definitions\n",
    "    nidm_add_elements(g,row,assessment_name) \n",
    "    #print \"looking for \" + row['SCORENAME']\n",
    "    #look for value sets in data dictionary that match the variable\n",
    "    query_sets = value_sets[value_sets['SCORENAME'].str.contains(row['SCORENAME'])]\n",
    "    #iterate over the value set rows and add to RDF graph\n",
    "    for query_index, query_row in query_sets.iterrows():\n",
    "        #print query_row['SCORECODE'] + \",\" + query_row['SCORELABEL'] \n",
    "        #add attribute to coded data element for valueset\n",
    "        valueset_id = assessment_name+row[\"SCORENAME\"]+\"ValueSet\"\n",
    "        g.add((nidash[assessment_name+row[\"SCORENAME\"]], nidash[\"ValueSet\"], nidash[valueset_id]))\n",
    "        #create value set collection\n",
    "        g.add((nidash[valueset_id], rdf.RDF.type, prov[\"Collection\"]))\n",
    "        g.add((nidash[valueset_id], rdf.RDF.type, nidash[\"ValueSet\"]))\n",
    "        nidm_add_codedproperty(g, query_row, valueset_id ,row[\"SCORENAME\"] + \"_\" + query_row[\"SCORECODE\"] )\n",
    "        \n"
   ]
  },
  {
   "cell_type": "code",
   "execution_count": 9,
   "metadata": {
    "collapsed": false
   },
   "outputs": [
    {
     "name": "stdout",
     "output_type": "stream",
     "text": [
      "@prefix fbirn: <http://www.birncommunity.org/collaborators/function-birn/> .\n",
      "@prefix ncit: <http://ncitt.ncit.nih.gov/> .\n",
      "@prefix nidash: <http://purl.org/nidash/nidm/> .\n",
      "@prefix nidm: <http://nidm.nidash.org/> .\n",
      "@prefix prov: <http://www.w3.org/ns/prov#> .\n",
      "@prefix rdf: <http://www.w3.org/1999/02/22-rdf-syntax-ns#> .\n",
      "@prefix rdfs: <http://www.w3.org/2000/01/rdf-schema#> .\n",
      "@prefix xml: <http://www.w3.org/XML/1998/namespace> .\n",
      "@prefix xsd: <http://www.w3.org/2001/XMLSchema#> .\n",
      "\n",
      "nidash:FBIRNPhaseIIDemographics prov:hadMember nidash:FBIRNPhaseIIDemographicsAge,\n",
      "        nidash:FBIRNPhaseIIDemographicsEducation,\n",
      "        nidash:FBIRNPhaseIIDemographicsEthnicity,\n",
      "        nidash:FBIRNPhaseIIDemographicsFathersEducation,\n",
      "        nidash:FBIRNPhaseIIDemographicsFathersOccupation,\n",
      "        nidash:FBIRNPhaseIIDemographicsGender,\n",
      "        nidash:FBIRNPhaseIIDemographicsHandedness,\n",
      "        nidash:FBIRNPhaseIIDemographicsLivingArrangement,\n",
      "        nidash:FBIRNPhaseIIDemographicsMaritalStatus,\n",
      "        nidash:FBIRNPhaseIIDemographicsMothersEducation,\n",
      "        nidash:FBIRNPhaseIIDemographicsMothersOccupation,\n",
      "        nidash:FBIRNPhaseIIDemographicsNumberofChildren,\n",
      "        nidash:FBIRNPhaseIIDemographicsOccupation,\n",
      "        nidash:FBIRNPhaseIIDemographicsRace .\n",
      "\n",
      "nidash:Ethnicity_1 a nidash:CodedProperty,\n",
      "        rdf:Property ;\n",
      "    nidash:code \"1\" ;\n",
      "    prov:label \"Hispanic or Latino\" .\n",
      "\n",
      "nidash:Ethnicity_2 a nidash:CodedProperty,\n",
      "        rdf:Property ;\n",
      "    nidash:code \"2\" ;\n",
      "    prov:label \"Not Hispanic or Latino\" .\n",
      "\n",
      "nidash:Ethnicity_3 a nidash:CodedProperty,\n",
      "        rdf:Property ;\n",
      "    nidash:code \"3\" ;\n",
      "    prov:label \"Unknown (Individuals not reporting ethnicity)\" .\n",
      "\n",
      "nidash:FBIRNPhaseIIDemographicsAge a nidash:DataElement,\n",
      "        rdf:Property ;\n",
      "    nidash:DataType \"integer\" ;\n",
      "    nidash:Question \"Age (years)\" ;\n",
      "    nidash:Sequence 9 ;\n",
      "    prov:label \"Age\" .\n",
      "\n",
      "nidash:FBIRNPhaseIIDemographicsEducation a nidash:DataElement,\n",
      "        rdf:Property ;\n",
      "    nidash:DataType \"integer\" ;\n",
      "    nidash:Question \"Education (years)\" ;\n",
      "    nidash:Sequence 3 ;\n",
      "    prov:label \"Education\" .\n",
      "\n",
      "nidash:FBIRNPhaseIIDemographicsEthnicity a nidash:DataElement,\n",
      "        rdf:Property ;\n",
      "    nidash:DataType \"varchar\" ;\n",
      "    nidash:Question \"Ethnicity\" ;\n",
      "    nidash:Sequence 2 ;\n",
      "    nidash:ValueSet nidash:FBIRNPhaseIIDemographicsEthnicityValueSet ;\n",
      "    prov:label \"Ethnicity\" .\n",
      "\n",
      "nidash:FBIRNPhaseIIDemographicsEthnicityValueSet a nidash:ValueSet,\n",
      "        prov:Collection ;\n",
      "    prov:hadMember nidash:Ethnicity_1,\n",
      "        nidash:Ethnicity_2,\n",
      "        nidash:Ethnicity_3 .\n",
      "\n",
      "nidash:FBIRNPhaseIIDemographicsFathersEducation a nidash:DataElement,\n",
      "        rdf:Property ;\n",
      "    nidash:DataType \"integer\" ;\n",
      "    nidash:Question \"Fathers Education (years)\" ;\n",
      "    nidash:Sequence 5 ;\n",
      "    prov:label \"FathersEducation\" .\n",
      "\n",
      "nidash:FBIRNPhaseIIDemographicsFathersOccupation a nidash:DataElement,\n",
      "        rdf:Property ;\n",
      "    nidash:DataType \"varchar\" ;\n",
      "    nidash:Question \"Fathers Occupation\" ;\n",
      "    nidash:Sequence 8 ;\n",
      "    prov:label \"FathersOccupation\" .\n",
      "\n",
      "nidash:FBIRNPhaseIIDemographicsGender a nidash:DataElement,\n",
      "        rdf:Property ;\n",
      "    nidash:DataType \"varchar\" ;\n",
      "    nidash:Question \"Gender\" ;\n",
      "    nidash:Sequence 13 ;\n",
      "    nidash:ValueSet nidash:FBIRNPhaseIIDemographicsGenderValueSet ;\n",
      "    prov:label \"Gender\" .\n",
      "\n",
      "nidash:FBIRNPhaseIIDemographicsGenderValueSet a nidash:ValueSet,\n",
      "        prov:Collection ;\n",
      "    prov:hadMember nidash:Gender_F,\n",
      "        nidash:Gender_M .\n",
      "\n",
      "nidash:FBIRNPhaseIIDemographicsHandedness a nidash:DataElement,\n",
      "        rdf:Property ;\n",
      "    nidash:DataType \"varchar\" ;\n",
      "    nidash:Question \"Handedness\" ;\n",
      "    nidash:Sequence 14 ;\n",
      "    nidash:ValueSet nidash:FBIRNPhaseIIDemographicsHandednessValueSet ;\n",
      "    prov:label \"Handedness\" .\n",
      "\n",
      "nidash:FBIRNPhaseIIDemographicsHandednessValueSet a nidash:ValueSet,\n",
      "        prov:Collection ;\n",
      "    prov:hadMember nidash:Handedness_L,\n",
      "        nidash:Handedness_M,\n",
      "        nidash:Handedness_R,\n",
      "        nidash:Handedness_U .\n",
      "\n",
      "nidash:FBIRNPhaseIIDemographicsLivingArrangement a nidash:DataElement,\n",
      "        rdf:Property ;\n",
      "    nidash:DataType \"varchar\" ;\n",
      "    nidash:Question \"Living Arrangement\" ;\n",
      "    nidash:Sequence 11 ;\n",
      "    prov:label \"LivingArrangement\" .\n",
      "\n",
      "nidash:FBIRNPhaseIIDemographicsMaritalStatus a nidash:DataElement,\n",
      "        rdf:Property ;\n",
      "    nidash:DataType \"varchar\" ;\n",
      "    nidash:Question \"Marital Status\" ;\n",
      "    nidash:Sequence 10 ;\n",
      "    prov:label \"MaritalStatus\" .\n",
      "\n",
      "nidash:FBIRNPhaseIIDemographicsMothersEducation a nidash:DataElement,\n",
      "        rdf:Property ;\n",
      "    nidash:DataType \"integer\" ;\n",
      "    nidash:Question \"Mothers Education (years)\" ;\n",
      "    nidash:Sequence 4 ;\n",
      "    prov:label \"MothersEducation\" .\n",
      "\n",
      "nidash:FBIRNPhaseIIDemographicsMothersOccupation a nidash:DataElement,\n",
      "        rdf:Property ;\n",
      "    nidash:DataType \"varchar\" ;\n",
      "    nidash:Question \"Mothers Occupation\" ;\n",
      "    nidash:Sequence 7 ;\n",
      "    prov:label \"MothersOccupation\" .\n",
      "\n",
      "nidash:FBIRNPhaseIIDemographicsNumberofChildren a nidash:DataElement,\n",
      "        rdf:Property ;\n",
      "    nidash:DataType \"integer\" ;\n",
      "    nidash:Question \"Number of Children\" ;\n",
      "    nidash:Sequence 12 ;\n",
      "    prov:label \"NumberofChildren\" .\n",
      "\n",
      "nidash:FBIRNPhaseIIDemographicsOccupation a nidash:DataElement,\n",
      "        rdf:Property ;\n",
      "    nidash:DataType \"varchar\" ;\n",
      "    nidash:Question \"Occupation\" ;\n",
      "    nidash:Sequence 6 ;\n",
      "    nidash:ValueSet nidash:FBIRNPhaseIIDemographicsOccupationValueSet ;\n",
      "    prov:label \"Occupation\" .\n",
      "\n",
      "nidash:FBIRNPhaseIIDemographicsOccupationValueSet a nidash:ValueSet,\n",
      "        prov:Collection ;\n",
      "    prov:hadMember nidash:Occupation_0,\n",
      "        nidash:Occupation_1,\n",
      "        nidash:Occupation_2,\n",
      "        nidash:Occupation_3,\n",
      "        nidash:Occupation_4,\n",
      "        nidash:Occupation_5,\n",
      "        nidash:Occupation_6 .\n",
      "\n",
      "nidash:FBIRNPhaseIIDemographicsRace a nidash:DataElement,\n",
      "        rdf:Property ;\n",
      "    nidash:DataType \"varchar\" ;\n",
      "    nidash:Question \"Race\" ;\n",
      "    nidash:Sequence 1 ;\n",
      "    nidash:ValueSet nidash:FBIRNPhaseIIDemographicsRaceValueSet ;\n",
      "    prov:label \"Race\" .\n",
      "\n",
      "nidash:FBIRNPhaseIIDemographicsRaceValueSet a nidash:ValueSet,\n",
      "        prov:Collection ;\n",
      "    prov:hadMember nidash:Race_1,\n",
      "        nidash:Race_2,\n",
      "        nidash:Race_3,\n",
      "        nidash:Race_4,\n",
      "        nidash:Race_5,\n",
      "        nidash:Race_6,\n",
      "        nidash:Race_7 .\n",
      "\n",
      "nidash:Gender_F a nidash:CodedProperty,\n",
      "        rdf:Property ;\n",
      "    nidash:code \"F\" ;\n",
      "    prov:label \"Female\" .\n",
      "\n",
      "nidash:Gender_M a nidash:CodedProperty,\n",
      "        rdf:Property ;\n",
      "    nidash:code \"M\" ;\n",
      "    prov:label \"Male\" .\n",
      "\n",
      "nidash:Handedness_L a nidash:CodedProperty,\n",
      "        rdf:Property ;\n",
      "    nidash:code \"L\" ;\n",
      "    prov:label \"Left Handed\" .\n",
      "\n",
      "nidash:Handedness_M a nidash:CodedProperty,\n",
      "        rdf:Property ;\n",
      "    nidash:code \"M\" ;\n",
      "    prov:label \"Mix Handed\" .\n",
      "\n",
      "nidash:Handedness_R a nidash:CodedProperty,\n",
      "        rdf:Property ;\n",
      "    nidash:code \"R\" ;\n",
      "    prov:label \"Right Handed\" .\n",
      "\n",
      "nidash:Handedness_U a nidash:CodedProperty,\n",
      "        rdf:Property ;\n",
      "    nidash:code \"U\" ;\n",
      "    prov:label \"Unknown\" .\n",
      "\n",
      "nidash:Occupation_0 a nidash:CodedProperty,\n",
      "        rdf:Property ;\n",
      "    nidash:code \"0\" ;\n",
      "    prov:label \"Unemployed\" .\n",
      "\n",
      "nidash:Occupation_1 a nidash:CodedProperty,\n",
      "        rdf:Property ;\n",
      "    nidash:code \"1\" ;\n",
      "    prov:label \"Professional and Technical\" .\n",
      "\n",
      "nidash:Occupation_2 a nidash:CodedProperty,\n",
      "        rdf:Property ;\n",
      "    nidash:code \"2\" ;\n",
      "    prov:label \"Business, Finance and Managerial\" .\n",
      "\n",
      "nidash:Occupation_3 a nidash:CodedProperty,\n",
      "        rdf:Property ;\n",
      "    nidash:code \"3\" ;\n",
      "    prov:label \"Clerical, Sales and Service\" .\n",
      "\n",
      "nidash:Occupation_4 a nidash:CodedProperty,\n",
      "        rdf:Property ;\n",
      "    nidash:code \"4\" ;\n",
      "    prov:label \"Agricultural, Fishery, Forestry, and Related\" .\n",
      "\n",
      "nidash:Occupation_5 a nidash:CodedProperty,\n",
      "        rdf:Property ;\n",
      "    nidash:code \"5\" ;\n",
      "    prov:label \"Processing, Manufacturing and Utilities\" .\n",
      "\n",
      "nidash:Occupation_6 a nidash:CodedProperty,\n",
      "        rdf:Property ;\n",
      "    nidash:code \"6\" ;\n",
      "    prov:label \"Trades and Equipment Operators\" .\n",
      "\n",
      "nidash:Race_1 a nidash:CodedProperty,\n",
      "        rdf:Property ;\n",
      "    nidash:code \"1\" ;\n",
      "    prov:label \"American Indian/Alaska Native\" .\n",
      "\n",
      "nidash:Race_2 a nidash:CodedProperty,\n",
      "        rdf:Property ;\n",
      "    nidash:code \"2\" ;\n",
      "    prov:label \"Asian\" .\n",
      "\n",
      "nidash:Race_3 a nidash:CodedProperty,\n",
      "        rdf:Property ;\n",
      "    nidash:code \"3\" ;\n",
      "    prov:label \"Native Hawaiian or Other Pacific Islander\" .\n",
      "\n",
      "nidash:Race_4 a nidash:CodedProperty,\n",
      "        rdf:Property ;\n",
      "    nidash:code \"4\" ;\n",
      "    prov:label \"Black or African American\" .\n",
      "\n",
      "nidash:Race_5 a nidash:CodedProperty,\n",
      "        rdf:Property ;\n",
      "    nidash:code \"5\" ;\n",
      "    prov:label \"White\" .\n",
      "\n",
      "nidash:Race_6 a nidash:CodedProperty,\n",
      "        rdf:Property ;\n",
      "    nidash:code \"6\" ;\n",
      "    prov:label \"More than one race\" .\n",
      "\n",
      "nidash:Race_7 a nidash:CodedProperty,\n",
      "        rdf:Property ;\n",
      "    nidash:code \"7\" ;\n",
      "    prov:label \"Unknown or not reported\" .\n",
      "\n",
      "\n"
     ]
    }
   ],
   "source": [
    "print g.serialize(format='turtle')"
   ]
  },
  {
   "cell_type": "markdown",
   "metadata": {},
   "source": [
    "#Save RDF Turtle file to disk"
   ]
  },
  {
   "cell_type": "code",
   "execution_count": 10,
   "metadata": {
    "collapsed": false
   },
   "outputs": [],
   "source": [
    "with open(\"FBIRNPhaseII_DEMOGRAPHICS_DataDictionary.ttl\",'w') as f:\n",
    "    f.write(g.serialize(format='turtle'))"
   ]
  },
  {
   "cell_type": "markdown",
   "metadata": {},
   "source": [
    "#Create RDF graph from DOT file"
   ]
  },
  {
   "cell_type": "code",
   "execution_count": 11,
   "metadata": {
    "collapsed": true
   },
   "outputs": [],
   "source": [
    "from rdflib.tools import rdf2dot\n",
    "with open(\"FBIRNPhaseII_DEMOGRAPHICS_DataDictionary.dot\",'w') as f:\n",
    "    s = rdf2dot.rdf2dot(g, f)\n"
   ]
  },
  {
   "cell_type": "code",
   "execution_count": 12,
   "metadata": {
    "collapsed": false
   },
   "outputs": [
    {
     "data": {
      "text/plain": [
       "True"
      ]
     },
     "execution_count": 12,
     "metadata": {},
     "output_type": "execute_result"
    }
   ],
   "source": [
    "import pydot\n",
    "g = pydot.graph_from_dot_file(\"FBIRNPhaseII_DEMOGRAPHICS_DataDictionary.dot\")\n",
    "g.write_png('\"FBIRNPhaseII_DEMOGRAPHICS_DataDictionary.png')"
   ]
  },
  {
   "cell_type": "code",
   "execution_count": null,
   "metadata": {
    "collapsed": true
   },
   "outputs": [],
   "source": []
  }
 ],
 "metadata": {
  "kernelspec": {
   "display_name": "Python 2",
   "language": "python",
   "name": "python2"
  },
  "language_info": {
   "codemirror_mode": {
    "name": "ipython",
    "version": 2
   },
   "file_extension": ".py",
   "mimetype": "text/x-python",
   "name": "python",
   "nbconvert_exporter": "python",
   "pygments_lexer": "ipython2",
   "version": "2.7.10"
  }
 },
 "nbformat": 4,
 "nbformat_minor": 0
}
